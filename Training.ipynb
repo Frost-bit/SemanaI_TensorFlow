{
  "nbformat": 4,
  "nbformat_minor": 0,
  "metadata": {
    "colab": {
      "name": "Training.ipynb",
      "version": "0.3.2",
      "provenance": [],
      "toc_visible": true
    },
    "kernelspec": {
      "name": "python2",
      "display_name": "Python 2"
    },
    "accelerator": "GPU"
  },
  "cells": [
    {
      "metadata": {
        "id": "QAhHKJaebT80",
        "colab_type": "text"
      },
      "cell_type": "markdown",
      "source": [
        "#Training\n",
        "Todos nuestros archivos propios (TFrecord, pbtxt) se subieron a google drive, por lo que configuramos colab para tener acceso al drive.\n"
      ]
    },
    {
      "metadata": {
        "id": "fyLIJ2K0aX8i",
        "colab_type": "code",
        "colab": {}
      },
      "cell_type": "code",
      "source": [
        "from google.colab import drive\n",
        "drive.mount('/content/gdrive')"
      ],
      "execution_count": 0,
      "outputs": []
    },
    {
      "metadata": {
        "id": "ODFDvmSAc_Nt",
        "colab_type": "text"
      },
      "cell_type": "markdown",
      "source": [
        "Se instaló la API de Tensorflow que incluía a *model zoo*, entre otras herramientas. Tambíen se instalaron otros paquetes por medio de pip como *dependencies*."
      ]
    },
    {
      "metadata": {
        "id": "NhAZeQQYgaWl",
        "colab_type": "code",
        "colab": {}
      },
      "cell_type": "code",
      "source": [
        "!git clone https://github.com/tensorflow/models.git\n",
        "import sys\n",
        "sys.path.append('models/research')\n",
        "sys.path.append('models/research/object_detection')"
      ],
      "execution_count": 0,
      "outputs": []
    },
    {
      "metadata": {
        "id": "jyE0Mm7yhpd8",
        "colab_type": "code",
        "colab": {}
      },
      "cell_type": "code",
      "source": [
        "!apt-get install -qq protobuf-compiler python-tk\n",
        "\n",
        "!pip install -q Cython contextlib2 pillow lxml matplotlib PyDrive\n",
        "\n",
        "!pip install -q pycocotools\n",
        "\n",
        "%cd /content/models/research\n",
        "!protoc object_detection/protos/*.proto --python_out=.\n",
        "\n",
        "import os\n",
        "os.environ['PYTHONPATH'] += ':/content/models/research/:/content/models/research/slim/'\n",
        "\n",
        "!python object_detection/builders/model_builder_test.py"
      ],
      "execution_count": 0,
      "outputs": []
    },
    {
      "metadata": {
        "id": "FQaNGw-heNim",
        "colab_type": "text"
      },
      "cell_type": "markdown",
      "source": [
        "A continuación se descarga el modelo preentrenado para el modelo que elegimos, faster_rcnn_inception_v2_coco"
      ]
    },
    {
      "metadata": {
        "id": "so411Nj6ZQK1",
        "colab_type": "code",
        "colab": {}
      },
      "cell_type": "code",
      "source": [
        "%cd /content\n",
        "import os\n",
        "import shutil\n",
        "import glob\n",
        "import urllib\n",
        "import tarfile\n",
        "\n",
        "MODEL = 'faster_rcnn_inception_v2_coco_2018_01_28'\n",
        "MODEL_FILE = MODEL + '.tar.gz'\n",
        "DOWNLOAD_BASE = 'http://download.tensorflow.org/models/object_detection/'\n",
        "DEST_DIR = 'pretrained_model'\n",
        "if not (os.path.exists(MODEL_FILE)):\n",
        "  opener = urllib.URLopener()\n",
        "  opener.retrieve(DOWNLOAD_BASE + MODEL_FILE, MODEL_FILE)\n",
        "\n",
        "tar = tarfile.open(MODEL_FILE)\n",
        "tar.extractall()\n",
        "tar.close()\n",
        "\n",
        "os.remove(MODEL_FILE)\n",
        "if (os.path.exists(DEST_DIR)):\n",
        "  shutil.rmtree(DEST_DIR)\n",
        "os.rename(MODEL, DEST_DIR)"
      ],
      "execution_count": 0,
      "outputs": []
    },
    {
      "metadata": {
        "id": "S0rvzY5tdg3B",
        "colab_type": "text"
      },
      "cell_type": "markdown",
      "source": [
        "Editamos el archivo .config con nuestros parámetros. Se cambia el trainining record, el validation record, el label map, el modelo inicial (este viene siendo el descargado en el paso anterior) y el número de clases."
      ]
    },
    {
      "metadata": {
        "id": "bjJzLBdlZvWw",
        "colab_type": "code",
        "colab": {}
      },
      "cell_type": "code",
      "source": [
        "import re\n",
        "\n",
        "filename = '/content/models/research/object_detection/samples/configs/faster_rcnn_inception_v2_coco.config'\n",
        "with open(filename) as f:\n",
        "  s = f.read()\n",
        "with open(filename, 'w') as f:\n",
        "  s = re.sub('PATH_TO_BE_CONFIGURED/model.ckpt', '/content/pretrained_model/model.ckpt', s)\n",
        "  s = re.sub('PATH_TO_BE_CONFIGURED/mscoco_train.record-\\?\\?\\?\\?\\?-of-00100', '/content/gdrive/My Drive/train.record', s)\n",
        "  s = re.sub('PATH_TO_BE_CONFIGURED/mscoco_val.record-\\?\\?\\?\\?\\?-of-00010', '/content/gdrive/My Drive/test.record', s)\n",
        "  s = re.sub('PATH_TO_BE_CONFIGURED/mscoco_label_map.pbtxt', '/content/gdrive/My Drive/label_map.pbtxt', s)\n",
        "  s = re.sub('num_classes: 90', 'num_classes: 13', s)\n",
        "  f.write(s)"
      ],
      "execution_count": 0,
      "outputs": []
    },
    {
      "metadata": {
        "id": "utNCjME1fMc3",
        "colab_type": "text"
      },
      "cell_type": "markdown",
      "source": [
        "Se corre el script que entrena la red."
      ]
    },
    {
      "metadata": {
        "id": "PDVXZHigg0qM",
        "colab_type": "code",
        "colab": {}
      },
      "cell_type": "code",
      "source": [
        "!python models/research/object_detection/model_main.py \\\n",
        "    --pipeline_config_path=models/research/object_detection/samples/configs/faster_rcnn_inception_v2_coco.config \\\n",
        "    --model_dir=trained \\\n",
        "    --alsologtostderr \\\n",
        "    --num_train_steps=3000 \\\n",
        "    --num_eval_steps=500"
      ],
      "execution_count": 0,
      "outputs": []
    },
    {
      "metadata": {
        "id": "Lhx8JS-1f6oO",
        "colab_type": "text"
      },
      "cell_type": "markdown",
      "source": [
        "Se guarda el último checkpoint guardado para a partir de ahí general el frozen model que se le dará a nuestra aplicación."
      ]
    },
    {
      "metadata": {
        "id": "LEc4hIhqYfXo",
        "colab_type": "code",
        "colab": {}
      },
      "cell_type": "code",
      "source": [
        "import os\n",
        "lst = os.listdir('trained')\n",
        "lf = filter(lambda k: 'model.ckpt-' in k, lst)\n",
        "last_model = sorted(lf)[-1].replace('.meta', '')\n",
        "\n",
        "!python models/research/object_detection/export_inference_graph.py \\\n",
        "    --input_type=image_tensor \\\n",
        "    --pipeline_config_path=/content/models/research/object_detection/samples/configs/faster_rcnn_inception_v2_coco.config \\\n",
        "    --output_directory='/content/gdrive/My Drive/fine_tuned_model' \\\n",
        "    --trained_checkpoint_prefix=trained/$last_model"
      ],
      "execution_count": 0,
      "outputs": []
    },
    {
      "metadata": {
        "id": "7P_MVE1igkJ_",
        "colab_type": "text"
      },
      "cell_type": "markdown",
      "source": [
        "Las siguientes herramientas sirven para poder usar Tensorboard."
      ]
    },
    {
      "metadata": {
        "id": "D2QM09yZoRl-",
        "colab_type": "code",
        "colab": {}
      },
      "cell_type": "code",
      "source": [
        "!wget https://bin.equinox.io/c/4VmDzA7iaHb/ngrok-stable-linux-amd64.zip\n",
        "!unzip ngrok-stable-linux-amd64.zip"
      ],
      "execution_count": 0,
      "outputs": []
    },
    {
      "metadata": {
        "id": "nfj2lGCRgwaV",
        "colab_type": "text"
      },
      "cell_type": "markdown",
      "source": [
        "A esto le damos el directorio donde se entrenó el modelo y al correr la celda nos arrojará una liga donde podemos ver el Tensorboard del entrenamiento."
      ]
    },
    {
      "metadata": {
        "id": "Puw0sSkdxFu7",
        "colab_type": "code",
        "colab": {}
      },
      "cell_type": "code",
      "source": [
        "LOG_DIR = 'trained'\n",
        "get_ipython().system_raw(\n",
        "    'tensorboard --logdir {} --host 0.0.0.0 --port 6006 &'\n",
        "    .format(LOG_DIR)\n",
        ")\n",
        "get_ipython().system_raw('./ngrok http 6006 &')\n",
        "! curl -s http://localhost:4040/api/tunnels | python3 -c \\\n",
        "    \"import sys, json; print(json.load(sys.stdin)['tunnels'][0]['public_url'])\""
      ],
      "execution_count": 0,
      "outputs": []
    }
  ]
}
